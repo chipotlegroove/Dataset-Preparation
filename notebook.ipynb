{
 "cells": [
  {
   "cell_type": "code",
   "execution_count": 212,
   "id": "eda9c1b2-4e9a-41ac-8da6-d4c98775f986",
   "metadata": {
    "executionCancelledAt": null,
    "executionTime": 69,
    "lastExecutedAt": 1735335686911,
    "lastExecutedByKernel": "79431d75-4554-4236-b3a7-a42adbf01d42",
    "lastScheduledRunId": null,
    "lastSuccessfullyExecutedCode": "# Import necessary libraries\nimport pandas as pd\nimport numpy as np\n\n# Load the dataset\nds_jobs = pd.read_csv(\"customer_train.csv\")\n\n# View the dataset\nds_jobs.head()",
    "outputsMetadata": {
     "0": {
      "height": 550,
      "tableState": {
       "customFilter": {
        "const": {
         "type": "boolean",
         "valid": true,
         "value": true
        },
        "id": "cdb225ea-a79f-44bd-85b2-d02e0ba4b2ce",
        "nodeType": "const"
       },
       "quickFilterText": ""
      },
      "type": "dataFrame"
     }
    }
   },
   "outputs": [
    {
     "data": {
      "application/com.datacamp.data-table.v2+json": {
       "table": {
        "data": {
         "city": [
          "city_103",
          "city_40",
          "city_21",
          "city_115",
          "city_162"
         ],
         "city_development_index": [
          0.92,
          0.776,
          0.624,
          0.789,
          0.767
         ],
         "company_size": [
          null,
          "50-99",
          null,
          null,
          "50-99"
         ],
         "company_type": [
          null,
          "Pvt Ltd",
          null,
          "Pvt Ltd",
          "Funded Startup"
         ],
         "education_level": [
          "Graduate",
          "Graduate",
          "Graduate",
          "Graduate",
          "Masters"
         ],
         "enrolled_university": [
          "no_enrollment",
          "no_enrollment",
          "Full time course",
          null,
          "no_enrollment"
         ],
         "experience": [
          ">20",
          "15",
          "5",
          "<1",
          ">20"
         ],
         "gender": [
          "Male",
          "Male",
          null,
          null,
          "Male"
         ],
         "index": [
          0,
          1,
          2,
          3,
          4
         ],
         "job_change": [
          1,
          0,
          0,
          1,
          0
         ],
         "last_new_job": [
          "1",
          ">4",
          "never",
          "never",
          "4"
         ],
         "major_discipline": [
          "STEM",
          "STEM",
          "STEM",
          "Business Degree",
          "STEM"
         ],
         "relevant_experience": [
          "Has relevant experience",
          "No relevant experience",
          "No relevant experience",
          "No relevant experience",
          "Has relevant experience"
         ],
         "student_id": [
          8949,
          29725,
          11561,
          33241,
          666
         ],
         "training_hours": [
          36,
          47,
          83,
          52,
          8
         ]
        },
        "schema": {
         "fields": [
          {
           "name": "index",
           "type": "integer"
          },
          {
           "name": "student_id",
           "type": "integer"
          },
          {
           "name": "city",
           "type": "string"
          },
          {
           "name": "city_development_index",
           "type": "number"
          },
          {
           "name": "gender",
           "type": "string"
          },
          {
           "name": "relevant_experience",
           "type": "string"
          },
          {
           "name": "enrolled_university",
           "type": "string"
          },
          {
           "name": "education_level",
           "type": "string"
          },
          {
           "name": "major_discipline",
           "type": "string"
          },
          {
           "name": "experience",
           "type": "string"
          },
          {
           "name": "company_size",
           "type": "string"
          },
          {
           "name": "company_type",
           "type": "string"
          },
          {
           "name": "last_new_job",
           "type": "string"
          },
          {
           "name": "training_hours",
           "type": "integer"
          },
          {
           "name": "job_change",
           "type": "number"
          }
         ],
         "pandas_version": "1.4.0",
         "primaryKey": [
          "index"
         ]
        }
       },
       "total_rows": 5,
       "truncation_type": null
      },
      "text/html": [
       "<div>\n",
       "<style scoped>\n",
       "    .dataframe tbody tr th:only-of-type {\n",
       "        vertical-align: middle;\n",
       "    }\n",
       "\n",
       "    .dataframe tbody tr th {\n",
       "        vertical-align: top;\n",
       "    }\n",
       "\n",
       "    .dataframe thead th {\n",
       "        text-align: right;\n",
       "    }\n",
       "</style>\n",
       "<table border=\"1\" class=\"dataframe\">\n",
       "  <thead>\n",
       "    <tr style=\"text-align: right;\">\n",
       "      <th></th>\n",
       "      <th>student_id</th>\n",
       "      <th>city</th>\n",
       "      <th>city_development_index</th>\n",
       "      <th>gender</th>\n",
       "      <th>relevant_experience</th>\n",
       "      <th>enrolled_university</th>\n",
       "      <th>education_level</th>\n",
       "      <th>major_discipline</th>\n",
       "      <th>experience</th>\n",
       "      <th>company_size</th>\n",
       "      <th>company_type</th>\n",
       "      <th>last_new_job</th>\n",
       "      <th>training_hours</th>\n",
       "      <th>job_change</th>\n",
       "    </tr>\n",
       "  </thead>\n",
       "  <tbody>\n",
       "    <tr>\n",
       "      <th>0</th>\n",
       "      <td>8949</td>\n",
       "      <td>city_103</td>\n",
       "      <td>0.920</td>\n",
       "      <td>Male</td>\n",
       "      <td>Has relevant experience</td>\n",
       "      <td>no_enrollment</td>\n",
       "      <td>Graduate</td>\n",
       "      <td>STEM</td>\n",
       "      <td>&gt;20</td>\n",
       "      <td>NaN</td>\n",
       "      <td>NaN</td>\n",
       "      <td>1</td>\n",
       "      <td>36</td>\n",
       "      <td>1.0</td>\n",
       "    </tr>\n",
       "    <tr>\n",
       "      <th>1</th>\n",
       "      <td>29725</td>\n",
       "      <td>city_40</td>\n",
       "      <td>0.776</td>\n",
       "      <td>Male</td>\n",
       "      <td>No relevant experience</td>\n",
       "      <td>no_enrollment</td>\n",
       "      <td>Graduate</td>\n",
       "      <td>STEM</td>\n",
       "      <td>15</td>\n",
       "      <td>50-99</td>\n",
       "      <td>Pvt Ltd</td>\n",
       "      <td>&gt;4</td>\n",
       "      <td>47</td>\n",
       "      <td>0.0</td>\n",
       "    </tr>\n",
       "    <tr>\n",
       "      <th>2</th>\n",
       "      <td>11561</td>\n",
       "      <td>city_21</td>\n",
       "      <td>0.624</td>\n",
       "      <td>NaN</td>\n",
       "      <td>No relevant experience</td>\n",
       "      <td>Full time course</td>\n",
       "      <td>Graduate</td>\n",
       "      <td>STEM</td>\n",
       "      <td>5</td>\n",
       "      <td>NaN</td>\n",
       "      <td>NaN</td>\n",
       "      <td>never</td>\n",
       "      <td>83</td>\n",
       "      <td>0.0</td>\n",
       "    </tr>\n",
       "    <tr>\n",
       "      <th>3</th>\n",
       "      <td>33241</td>\n",
       "      <td>city_115</td>\n",
       "      <td>0.789</td>\n",
       "      <td>NaN</td>\n",
       "      <td>No relevant experience</td>\n",
       "      <td>NaN</td>\n",
       "      <td>Graduate</td>\n",
       "      <td>Business Degree</td>\n",
       "      <td>&lt;1</td>\n",
       "      <td>NaN</td>\n",
       "      <td>Pvt Ltd</td>\n",
       "      <td>never</td>\n",
       "      <td>52</td>\n",
       "      <td>1.0</td>\n",
       "    </tr>\n",
       "    <tr>\n",
       "      <th>4</th>\n",
       "      <td>666</td>\n",
       "      <td>city_162</td>\n",
       "      <td>0.767</td>\n",
       "      <td>Male</td>\n",
       "      <td>Has relevant experience</td>\n",
       "      <td>no_enrollment</td>\n",
       "      <td>Masters</td>\n",
       "      <td>STEM</td>\n",
       "      <td>&gt;20</td>\n",
       "      <td>50-99</td>\n",
       "      <td>Funded Startup</td>\n",
       "      <td>4</td>\n",
       "      <td>8</td>\n",
       "      <td>0.0</td>\n",
       "    </tr>\n",
       "  </tbody>\n",
       "</table>\n",
       "</div>"
      ],
      "text/plain": [
       "   student_id      city  ...  training_hours job_change\n",
       "0        8949  city_103  ...              36        1.0\n",
       "1       29725   city_40  ...              47        0.0\n",
       "2       11561   city_21  ...              83        0.0\n",
       "3       33241  city_115  ...              52        1.0\n",
       "4         666  city_162  ...               8        0.0\n",
       "\n",
       "[5 rows x 14 columns]"
      ]
     },
     "execution_count": 212,
     "metadata": {},
     "output_type": "execute_result"
    }
   ],
   "source": [
    "# Import necessary libraries\n",
    "import pandas as pd\n",
    "import numpy as np\n",
    "\n",
    "\n",
    "ds_jobs = pd.read_csv(\"customer_train.csv\")\n",
    "\n",
    "ds_jobs.head()"
   ]
  },
  {
   "cell_type": "code",
   "execution_count": 213,
   "id": "13757e62-aca2-48f4-b569-a838af11bdd5",
   "metadata": {
    "executionCancelledAt": null,
    "executionTime": 49,
    "lastExecutedAt": 1735335686960,
    "lastExecutedByKernel": "79431d75-4554-4236-b3a7-a42adbf01d42",
    "lastScheduledRunId": null,
    "lastSuccessfullyExecutedCode": "# Create a copy of ds_jobs for transforming\nds_jobs_transformed = ds_jobs.copy()\n\n# Start coding here. Use as many cells as you like!"
   },
   "outputs": [],
   "source": [
    "# Create a copy of ds_jobs for transforming\n",
    "ds_jobs_transformed = ds_jobs.copy()\n"
   ]
  },
  {
   "cell_type": "code",
   "execution_count": 214,
   "id": "e99ce22c-40b8-4824-9779-243fd3426324",
   "metadata": {
    "executionCancelledAt": null,
    "executionTime": 80,
    "lastExecutedAt": 1735335687040,
    "lastExecutedByKernel": "79431d75-4554-4236-b3a7-a42adbf01d42",
    "lastScheduledRunId": null,
    "lastSuccessfullyExecutedCode": "display(ds_jobs_transformed.dtypes)",
    "outputsMetadata": {
     "0": {
      "height": 500,
      "tableState": {
       "quickFilterText": ""
      },
      "type": "dataFrame"
     }
    }
   },
   "outputs": [
    {
     "data": {
      "text/plain": [
       "student_id                  int64\n",
       "city                       object\n",
       "city_development_index    float64\n",
       "gender                     object\n",
       "relevant_experience        object\n",
       "enrolled_university        object\n",
       "education_level            object\n",
       "major_discipline           object\n",
       "experience                 object\n",
       "company_size               object\n",
       "company_type               object\n",
       "last_new_job               object\n",
       "training_hours              int64\n",
       "job_change                float64\n",
       "dtype: object"
      ]
     },
     "metadata": {},
     "output_type": "display_data"
    }
   ],
   "source": [
    "display(ds_jobs_transformed.dtypes)"
   ]
  },
  {
   "cell_type": "code",
   "execution_count": 215,
   "id": "ecec222e-4340-4add-a5c6-4ccbe5e43bd6",
   "metadata": {
    "executionCancelledAt": null,
    "executionTime": 52,
    "lastExecutedAt": 1735335687092,
    "lastExecutedByKernel": "79431d75-4554-4236-b3a7-a42adbf01d42",
    "lastScheduledRunId": null,
    "lastSuccessfullyExecutedCode": "#Columns containing categories with only two factors must be stored as Booleans"
   },
   "outputs": [],
   "source": [
    "#Transform columns containing categories with only two factors to Booleans"
   ]
  },
  {
   "cell_type": "code",
   "execution_count": 216,
   "id": "704c6a1e-43bd-4e25-b60e-7cbeb52128b0",
   "metadata": {
    "executionCancelledAt": null,
    "executionTime": 52,
    "lastExecutedAt": 1735335687144,
    "lastExecutedByKernel": "79431d75-4554-4236-b3a7-a42adbf01d42",
    "lastScheduledRunId": null,
    "lastSuccessfullyExecutedCode": "columns_with_2_factors = [column for column in ds_jobs_transformed.columns if len(ds_jobs_transformed[column].value_counts())==2]"
   },
   "outputs": [],
   "source": [
    "columns_with_2_factors = [column for column in ds_jobs_transformed.columns if len(ds_jobs_transformed[column].value_counts())==2]"
   ]
  },
  {
   "cell_type": "code",
   "execution_count": 217,
   "id": "91b8d9f0-03bb-4459-a1d6-e9a5b250b56d",
   "metadata": {
    "executionCancelledAt": null,
    "executionTime": 52,
    "lastExecutedAt": 1735335687196,
    "lastExecutedByKernel": "79431d75-4554-4236-b3a7-a42adbf01d42",
    "lastScheduledRunId": null,
    "lastSuccessfullyExecutedCode": "display(columns_with_2_factors)"
   },
   "outputs": [
    {
     "data": {
      "text/plain": [
       "['relevant_experience', 'job_change']"
      ]
     },
     "metadata": {},
     "output_type": "display_data"
    }
   ],
   "source": [
    "display(columns_with_2_factors)"
   ]
  },
  {
   "cell_type": "code",
   "execution_count": 219,
   "id": "0df6795e-bffb-45b0-bb67-7808d31b944d",
   "metadata": {
    "executionCancelledAt": null,
    "executionTime": 55,
    "lastExecutedAt": 1735335687304,
    "lastExecutedByKernel": "79431d75-4554-4236-b3a7-a42adbf01d42",
    "lastScheduledRunId": null,
    "lastSuccessfullyExecutedCode": "ds_jobs_transformed[\"relevant_experience\"] = np.where(ds_jobs_transformed[\"relevant_experience\"].str.contains(\"Has\"), 1, 0)"
   },
   "outputs": [],
   "source": [
    "ds_jobs_transformed[\"relevant_experience\"] = np.where(ds_jobs_transformed[\"relevant_experience\"].str.contains(\"Has\"), 1, 0)"
   ]
  },
  {
   "cell_type": "code",
   "execution_count": 220,
   "id": "d898a775-e6bc-4654-8ea9-3ff807d58dbf",
   "metadata": {
    "executionCancelledAt": null,
    "executionTime": 55,
    "lastExecutedAt": 1735335687360,
    "lastExecutedByKernel": "79431d75-4554-4236-b3a7-a42adbf01d42",
    "lastScheduledRunId": null,
    "lastSuccessfullyExecutedCode": "ds_jobs_transformed[\"relevant_experience\"] = ds_jobs_transformed[\"relevant_experience\"].astype(\"bool\")"
   },
   "outputs": [],
   "source": [
    "ds_jobs_transformed[\"relevant_experience\"] = ds_jobs_transformed[\"relevant_experience\"].astype(\"bool\")"
   ]
  },
  {
   "cell_type": "code",
   "execution_count": 221,
   "id": "1bfc2e82-5a7e-4f2f-969b-253c85dcccf6",
   "metadata": {
    "executionCancelledAt": null,
    "executionTime": 51,
    "lastExecutedAt": 1735335687412,
    "lastExecutedByKernel": "79431d75-4554-4236-b3a7-a42adbf01d42",
    "lastScheduledRunId": null,
    "lastSuccessfullyExecutedCode": "display(ds_jobs_transformed[\"job_change\"].value_counts())",
    "outputsMetadata": {
     "0": {
      "height": 550,
      "tableState": {
       "customFilter": {
        "const": {
         "type": "boolean",
         "valid": true,
         "value": true
        },
        "id": "cdb225ea-a79f-44bd-85b2-d02e0ba4b2ce",
        "nodeType": "const"
       },
       "quickFilterText": ""
      },
      "type": "dataFrame"
     }
    }
   },
   "outputs": [
    {
     "data": {
      "application/com.datacamp.data-table.v2+json": {
       "table": {
        "data": {
         "index": [
          0,
          1
         ],
         "job_change": [
          14381,
          4777
         ]
        },
        "schema": {
         "fields": [
          {
           "name": "index",
           "type": "number"
          },
          {
           "name": "job_change",
           "type": "integer"
          }
         ],
         "pandas_version": "1.4.0",
         "primaryKey": [
          "index"
         ]
        }
       },
       "total_rows": 2,
       "truncation_type": null
      },
      "text/plain": [
       "0.0    14381\n",
       "1.0     4777\n",
       "Name: job_change, dtype: int64"
      ]
     },
     "metadata": {},
     "output_type": "display_data"
    }
   ],
   "source": [
    "display(ds_jobs_transformed[\"job_change\"].value_counts())"
   ]
  },
  {
   "cell_type": "code",
   "execution_count": 222,
   "id": "a258597f-720f-470e-b7f1-e3ba1909f8ed",
   "metadata": {
    "executionCancelledAt": null,
    "executionTime": 52,
    "lastExecutedAt": 1735335687464,
    "lastExecutedByKernel": "79431d75-4554-4236-b3a7-a42adbf01d42",
    "lastScheduledRunId": null,
    "lastSuccessfullyExecutedCode": "ds_jobs_transformed[\"job_change\"] = ds_jobs_transformed[\"job_change\"].astype(\"bool\")"
   },
   "outputs": [],
   "source": [
    "ds_jobs_transformed[\"job_change\"] = ds_jobs_transformed[\"job_change\"].astype(\"bool\")"
   ]
  },
  {
   "cell_type": "code",
   "execution_count": 223,
   "id": "69650ccd-ab30-490e-9b13-ebfca35c3ea3",
   "metadata": {
    "executionCancelledAt": null,
    "executionTime": 48,
    "lastExecutedAt": 1735335687512,
    "lastExecutedByKernel": "79431d75-4554-4236-b3a7-a42adbf01d42",
    "lastScheduledRunId": null,
    "lastSuccessfullyExecutedCode": "#Columns containing integers only must be stored as 32-bit integers"
   },
   "outputs": [],
   "source": [
    "#Columns containing integers only must be stored as 32-bit integers"
   ]
  },
  {
   "cell_type": "code",
   "execution_count": 224,
   "id": "3d01595c-206e-4cc5-a681-f0d290279fbd",
   "metadata": {
    "executionCancelledAt": null,
    "executionTime": 52,
    "lastExecutedAt": 1735335687564,
    "lastExecutedByKernel": "79431d75-4554-4236-b3a7-a42adbf01d42",
    "lastScheduledRunId": null,
    "lastSuccessfullyExecutedCode": "ds_jobs_transformed[\"student_id\"] = ds_jobs_transformed[\"student_id\"].astype(\"int32\")"
   },
   "outputs": [],
   "source": [
    "ds_jobs_transformed[\"student_id\"] = ds_jobs_transformed[\"student_id\"].astype(\"int32\")"
   ]
  },
  {
   "cell_type": "code",
   "execution_count": 225,
   "id": "73d0aa44-f958-4ef3-9065-5c320bad6474",
   "metadata": {
    "executionCancelledAt": null,
    "executionTime": 48,
    "lastExecutedAt": 1735335687612,
    "lastExecutedByKernel": "79431d75-4554-4236-b3a7-a42adbf01d42",
    "lastScheduledRunId": null,
    "lastSuccessfullyExecutedCode": "ds_jobs_transformed[\"training_hours\"] = ds_jobs_transformed[\"training_hours\"].astype(\"int32\")"
   },
   "outputs": [],
   "source": [
    "ds_jobs_transformed[\"training_hours\"] = ds_jobs_transformed[\"training_hours\"].astype(\"int32\")"
   ]
  },
  {
   "cell_type": "code",
   "execution_count": 226,
   "id": "d1bae688-3b0d-431d-b6ca-5d00f6d8e08b",
   "metadata": {
    "executionCancelledAt": null,
    "executionTime": 52,
    "lastExecutedAt": 1735335687664,
    "lastExecutedByKernel": "79431d75-4554-4236-b3a7-a42adbf01d42",
    "lastScheduledRunId": null,
    "lastSuccessfullyExecutedCode": "#Columns containing floats must be stored as 16-bit floats"
   },
   "outputs": [],
   "source": [
    "#Columns containing floats must be stored as 16-bit floats"
   ]
  },
  {
   "cell_type": "code",
   "execution_count": 227,
   "id": "02e78b4b-970f-4665-8448-0acd3501d334",
   "metadata": {
    "executionCancelledAt": null,
    "executionTime": 52,
    "lastExecutedAt": 1735335687716,
    "lastExecutedByKernel": "79431d75-4554-4236-b3a7-a42adbf01d42",
    "lastScheduledRunId": null,
    "lastSuccessfullyExecutedCode": "ds_jobs_transformed[\"city_development_index\"] = ds_jobs_transformed[\"city_development_index\"].astype(\"float16\")"
   },
   "outputs": [],
   "source": [
    "ds_jobs_transformed[\"city_development_index\"] = ds_jobs_transformed[\"city_development_index\"].astype(\"float16\")"
   ]
  },
  {
   "cell_type": "code",
   "execution_count": 228,
   "id": "904d6d78-dc4a-4e44-b488-0ea9ebeb604d",
   "metadata": {
    "executionCancelledAt": null,
    "executionTime": 47,
    "lastExecutedAt": 1735335687764,
    "lastExecutedByKernel": "79431d75-4554-4236-b3a7-a42adbf01d42",
    "lastScheduledRunId": null,
    "lastSuccessfullyExecutedCode": "#Columns containing nominal categorical data must be stored as the category data type."
   },
   "outputs": [],
   "source": [
    "#Columns containing nominal categorical data must be stored as the category data type."
   ]
  },
  {
   "cell_type": "code",
   "execution_count": 229,
   "id": "62fdefc8-2ef1-41bd-8393-a3244ed22d89",
   "metadata": {
    "executionCancelledAt": null,
    "executionTime": 64,
    "lastExecutedAt": 1735335687828,
    "lastExecutedByKernel": "79431d75-4554-4236-b3a7-a42adbf01d42",
    "lastScheduledRunId": null,
    "lastSuccessfullyExecutedCode": "nominals = [\"city\",\"gender\",\"major_discipline\", \"company_type\"]\nfor cat in nominals:\n    ds_jobs_transformed[cat] = ds_jobs_transformed[cat].astype(\"category\")"
   },
   "outputs": [],
   "source": [
    "nominals = [\"city\",\"gender\",\"major_discipline\", \"company_type\"]\n",
    "for cat in nominals:\n",
    "    ds_jobs_transformed[cat] = ds_jobs_transformed[cat].astype(\"category\")"
   ]
  },
  {
   "cell_type": "code",
   "execution_count": 230,
   "id": "72d46931-f70a-4b44-a536-5881c60ea93a",
   "metadata": {
    "executionCancelledAt": null,
    "executionTime": 51,
    "lastExecutedAt": 1735335687880,
    "lastExecutedByKernel": "79431d75-4554-4236-b3a7-a42adbf01d42",
    "lastScheduledRunId": null,
    "lastSuccessfullyExecutedCode": "#Columns containing ordinal categorical data must be stored as ordered categories, and not mapped to numerical values, with an order that reflects the natural order of the column."
   },
   "outputs": [],
   "source": [
    "#Columns containing ordinal categorical data must be stored as ordered categories, and not mapped to numerical values, with an order that reflects the natural order of the column."
   ]
  },
  {
   "cell_type": "code",
   "execution_count": 231,
   "id": "cba7e7fa-6a14-46d9-a7d3-b236f25493de",
   "metadata": {
    "executionCancelledAt": null,
    "executionTime": 55,
    "lastExecutedAt": 1735335687936,
    "lastExecutedByKernel": "79431d75-4554-4236-b3a7-a42adbf01d42",
    "lastScheduledRunId": null,
    "lastSuccessfullyExecutedCode": "ordinals = [\"education_level\", \"experience\", \"company_size\", \"last_new_job\",\"enrolled_university\"]"
   },
   "outputs": [],
   "source": [
    "ordinals = [\"education_level\", \"experience\", \"company_size\", \"last_new_job\",\"enrolled_university\"]"
   ]
  },
  {
   "cell_type": "code",
   "execution_count": 233,
   "id": "c4e4525b-9629-4b96-b295-58f6355251fa",
   "metadata": {
    "executionCancelledAt": null,
    "executionTime": 51,
    "lastExecutedAt": 1735335688048,
    "lastExecutedByKernel": "79431d75-4554-4236-b3a7-a42adbf01d42",
    "lastScheduledRunId": null,
    "lastSuccessfullyExecutedCode": "experience = [\"<1\"]\nfor x in range(1,21):\n    experience.append(str(x))\nexperience.append(\">20\")"
   },
   "outputs": [],
   "source": [
    "experience = [\"<1\"]\n",
    "for x in range(1,21):\n",
    "    experience.append(str(x))\n",
    "experience.append(\">20\")"
   ]
  },
  {
   "cell_type": "code",
   "execution_count": 234,
   "id": "bb0441a3-58bf-4fa1-90b1-e0e28ea0fdb6",
   "metadata": {
    "executionCancelledAt": null,
    "executionTime": 55,
    "lastExecutedAt": 1735335688104,
    "lastExecutedByKernel": "79431d75-4554-4236-b3a7-a42adbf01d42",
    "lastScheduledRunId": null,
    "lastSuccessfullyExecutedCode": "last_new_job = [\"never\"]\nfor x in range(1,5):\n    last_new_job.append(str(x))\nlast_new_job.append(\">4\")"
   },
   "outputs": [],
   "source": [
    "last_new_job = [\"never\"]\n",
    "for x in range(1,5):\n",
    "    last_new_job.append(str(x))\n",
    "last_new_job.append(\">4\")"
   ]
  },
  {
   "cell_type": "code",
   "execution_count": 235,
   "id": "a64d9389-d0a0-4eba-b8d8-1ebf57b11844",
   "metadata": {
    "executionCancelledAt": null,
    "executionTime": 51,
    "lastExecutedAt": 1735335688156,
    "lastExecutedByKernel": "79431d75-4554-4236-b3a7-a42adbf01d42",
    "lastScheduledRunId": null,
    "lastSuccessfullyExecutedCode": "categories_by_columns = {\n    \"education_level\":[\"Primary School\",\"High School\",\"Graduate\",\"Masters\",\"Phd\"],\n    \"experience\":experience,\n    \"company_size\":[\"<10\",\"10-49\",\"50-99\",\"100-499\",\"500-999\",\"1000-4999\",\"5000-9999\",\"10000+\"],\n    \"last_new_job\":last_new_job,  \n    \"enrolled_university\":[\"no_enrollment\",\"Part time course\",\"Full time course\"]\n}"
   },
   "outputs": [],
   "source": [
    "categories_by_columns = {\n",
    "    \"education_level\":[\"Primary School\",\"High School\",\"Graduate\",\"Masters\",\"Phd\"],\n",
    "    \"experience\":experience,\n",
    "    \"company_size\":[\"<10\",\"10-49\",\"50-99\",\"100-499\",\"500-999\",\"1000-4999\",\"5000-9999\",\"10000+\"],\n",
    "    \"last_new_job\":last_new_job,  \n",
    "    \"enrolled_university\":[\"no_enrollment\",\"Part time course\",\"Full time course\"]\n",
    "}"
   ]
  },
  {
   "cell_type": "code",
   "execution_count": 236,
   "id": "e81b91b2-8161-4935-88c7-542723d94806",
   "metadata": {
    "executionCancelledAt": null,
    "executionTime": 51,
    "lastExecutedAt": 1735335688208,
    "lastExecutedByKernel": "79431d75-4554-4236-b3a7-a42adbf01d42",
    "lastScheduledRunId": null,
    "lastSuccessfullyExecutedCode": "for column,cats in categories_by_columns.items():\n    print(f\"changing {column}\")\n    ds_jobs_transformed[column] = ds_jobs_transformed[column].astype(\"category\")\n    ds_jobs_transformed[column].cat.reorder_categories(\n        new_categories = cats,\n        ordered = True,\n        inplace = True\n    )",
    "outputsMetadata": {
     "0": {
      "height": 122,
      "type": "stream"
     }
    }
   },
   "outputs": [
    {
     "name": "stdout",
     "output_type": "stream",
     "text": [
      "changing education_level\n",
      "changing experience\n",
      "changing company_size\n",
      "changing last_new_job\n",
      "changing enrolled_university\n"
     ]
    }
   ],
   "source": [
    "for column,cats in categories_by_columns.items():\n",
    "    print(f\"changing {column}\")\n",
    "    ds_jobs_transformed[column] = ds_jobs_transformed[column].astype(\"category\")\n",
    "    ds_jobs_transformed[column].cat.reorder_categories(\n",
    "        new_categories = cats,\n",
    "        ordered = True,\n",
    "        inplace = True\n",
    "    )"
   ]
  },
  {
   "cell_type": "code",
   "execution_count": 238,
   "id": "7cd89958-c4af-4165-8f14-a18f9f59078c",
   "metadata": {
    "executionCancelledAt": null,
    "executionTime": 56,
    "lastExecutedAt": 1735335688316,
    "lastExecutedByKernel": "79431d75-4554-4236-b3a7-a42adbf01d42",
    "lastScheduledRunId": null,
    "lastSuccessfullyExecutedCode": "ds_jobs_transformed = ds_jobs_transformed[(ds_jobs_transformed[\"experience\"].isin(categories_by_columns[\"experience\"][10:])) & (ds_jobs_transformed[\"company_size\"].isin(categories_by_columns[\"company_size\"][5:]))]"
   },
   "outputs": [],
   "source": [
    "ds_jobs_transformed = ds_jobs_transformed[(ds_jobs_transformed[\"experience\"].isin(categories_by_columns[\"experience\"][10:])) & (ds_jobs_transformed[\"company_size\"].isin(categories_by_columns[\"company_size\"][5:]))]"
   ]
  },
  {
   "cell_type": "code",
   "execution_count": 239,
   "id": "7f501dd9-1ce6-4b5c-a4b4-fcd9799028de",
   "metadata": {
    "executionCancelledAt": null,
    "executionTime": 47,
    "lastExecutedAt": 1735335688364,
    "lastExecutedByKernel": "79431d75-4554-4236-b3a7-a42adbf01d42",
    "lastScheduledRunId": null,
    "lastSuccessfullyExecutedCode": "ds_jobs.info()",
    "outputsMetadata": {
     "0": {
      "height": 458,
      "type": "stream"
     }
    }
   },
   "outputs": [
    {
     "name": "stdout",
     "output_type": "stream",
     "text": [
      "<class 'pandas.core.frame.DataFrame'>\n",
      "RangeIndex: 19158 entries, 0 to 19157\n",
      "Data columns (total 14 columns):\n",
      " #   Column                  Non-Null Count  Dtype  \n",
      "---  ------                  --------------  -----  \n",
      " 0   student_id              19158 non-null  int64  \n",
      " 1   city                    19158 non-null  object \n",
      " 2   city_development_index  19158 non-null  float64\n",
      " 3   gender                  14650 non-null  object \n",
      " 4   relevant_experience     19158 non-null  object \n",
      " 5   enrolled_university     18772 non-null  object \n",
      " 6   education_level         18698 non-null  object \n",
      " 7   major_discipline        16345 non-null  object \n",
      " 8   experience              19093 non-null  object \n",
      " 9   company_size            13220 non-null  object \n",
      " 10  company_type            13018 non-null  object \n",
      " 11  last_new_job            18735 non-null  object \n",
      " 12  training_hours          19158 non-null  int64  \n",
      " 13  job_change              19158 non-null  float64\n",
      "dtypes: float64(2), int64(2), object(10)\n",
      "memory usage: 2.0+ MB\n"
     ]
    }
   ],
   "source": [
    "ds_jobs.info()"
   ]
  },
  {
   "cell_type": "code",
   "execution_count": 240,
   "id": "7f34f999-ea85-4eaa-9d74-30ff8d8cf755",
   "metadata": {
    "executionCancelledAt": null,
    "executionTime": 56,
    "lastExecutedAt": 1735335688420,
    "lastExecutedByKernel": "79431d75-4554-4236-b3a7-a42adbf01d42",
    "lastScheduledRunId": null,
    "lastSuccessfullyExecutedCode": "ds_jobs_transformed.info()",
    "outputsMetadata": {
     "0": {
      "height": 458,
      "type": "stream"
     }
    }
   },
   "outputs": [
    {
     "name": "stdout",
     "output_type": "stream",
     "text": [
      "<class 'pandas.core.frame.DataFrame'>\n",
      "Int64Index: 2201 entries, 9 to 19143\n",
      "Data columns (total 14 columns):\n",
      " #   Column                  Non-Null Count  Dtype   \n",
      "---  ------                  --------------  -----   \n",
      " 0   student_id              2201 non-null   int32   \n",
      " 1   city                    2201 non-null   category\n",
      " 2   city_development_index  2201 non-null   float16 \n",
      " 3   gender                  1821 non-null   category\n",
      " 4   relevant_experience     2201 non-null   bool    \n",
      " 5   enrolled_university     2185 non-null   category\n",
      " 6   education_level         2184 non-null   category\n",
      " 7   major_discipline        2097 non-null   category\n",
      " 8   experience              2201 non-null   category\n",
      " 9   company_size            2201 non-null   category\n",
      " 10  company_type            2144 non-null   category\n",
      " 11  last_new_job            2184 non-null   category\n",
      " 12  training_hours          2201 non-null   int32   \n",
      " 13  job_change              2201 non-null   bool    \n",
      "dtypes: bool(2), category(9), float16(1), int32(2)\n",
      "memory usage: 69.5 KB\n"
     ]
    }
   ],
   "source": [
    "ds_jobs_transformed.info()"
   ]
  }
 ],
 "metadata": {
  "editor": "DataLab",
  "kernelspec": {
   "display_name": "Python 3 (ipykernel)",
   "language": "python",
   "name": "python3"
  },
  "language_info": {
   "codemirror_mode": {
    "name": "ipython",
    "version": 3
   },
   "file_extension": ".py",
   "mimetype": "text/x-python",
   "name": "python",
   "nbconvert_exporter": "python",
   "pygments_lexer": "ipython3",
   "version": "3.8.10"
  }
 },
 "nbformat": 4,
 "nbformat_minor": 5
}
